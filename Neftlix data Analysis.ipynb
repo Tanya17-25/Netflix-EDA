{
 "cells": [
  {
   "cell_type": "code",
   "id": "initial_id",
   "metadata": {
    "collapsed": true,
    "ExecuteTime": {
     "end_time": "2025-07-22T15:26:48.907552Z",
     "start_time": "2025-07-22T15:26:48.649109Z"
    }
   },
   "source": [
    "import numpy as np\n",
    "import pandas as pd\n",
    "import matplotlib.pyplot as plt\n",
    "import seaborn as sns\n",
    "\n",
    "df = pd.read_csv(\"C:/Users/joshi/OneDrive/Desktop/Projects/Netflix data analysis project/mymoviedb.csv\",lineterminator='\\n')\n",
    "\n"
   ],
   "outputs": [],
   "execution_count": 67
  },
  {
   "metadata": {
    "ExecuteTime": {
     "end_time": "2025-07-22T15:26:50.449129Z",
     "start_time": "2025-07-22T15:26:50.431709Z"
    }
   },
   "cell_type": "code",
   "source": "print(df.head())",
   "id": "66ffd3cd0301e0e1",
   "outputs": [
    {
     "name": "stdout",
     "output_type": "stream",
     "text": [
      "  Release_Date                    Title  \\\n",
      "0   2021-12-15  Spider-Man: No Way Home   \n",
      "1   2022-03-01               The Batman   \n",
      "2   2022-02-25                  No Exit   \n",
      "3   2021-11-24                  Encanto   \n",
      "4   2021-12-22           The King's Man   \n",
      "\n",
      "                                            Overview  Popularity  Vote_Count  \\\n",
      "0  Peter Parker is unmasked and no longer able to...    5083.954        8940   \n",
      "1  In his second year of fighting crime, Batman u...    3827.658        1151   \n",
      "2  Stranded at a rest stop in the mountains durin...    2618.087         122   \n",
      "3  The tale of an extraordinary family, the Madri...    2402.201        5076   \n",
      "4  As a collection of history's worst tyrants and...    1895.511        1793   \n",
      "\n",
      "   Vote_Average Original_Language                               Genre  \\\n",
      "0           8.3                en  Action, Adventure, Science Fiction   \n",
      "1           8.1                en            Crime, Mystery, Thriller   \n",
      "2           6.3                en                            Thriller   \n",
      "3           7.7                en  Animation, Comedy, Family, Fantasy   \n",
      "4           7.0                en    Action, Adventure, Thriller, War   \n",
      "\n",
      "                                          Poster_Url  \n",
      "0  https://image.tmdb.org/t/p/original/1g0dhYtq4i...  \n",
      "1  https://image.tmdb.org/t/p/original/74xTEgt7R3...  \n",
      "2  https://image.tmdb.org/t/p/original/vDHsLnOWKl...  \n",
      "3  https://image.tmdb.org/t/p/original/4j0PNHkMr5...  \n",
      "4  https://image.tmdb.org/t/p/original/aq4Pwv5Xeu...  \n"
     ]
    }
   ],
   "execution_count": 68
  },
  {
   "metadata": {
    "ExecuteTime": {
     "end_time": "2025-07-22T15:26:53.332950Z",
     "start_time": "2025-07-22T15:26:53.255353Z"
    }
   },
   "cell_type": "code",
   "source": "print(df.info())",
   "id": "fa36ed7eaa7e17cc",
   "outputs": [
    {
     "name": "stdout",
     "output_type": "stream",
     "text": [
      "<class 'pandas.core.frame.DataFrame'>\n",
      "RangeIndex: 9827 entries, 0 to 9826\n",
      "Data columns (total 9 columns):\n",
      " #   Column             Non-Null Count  Dtype  \n",
      "---  ------             --------------  -----  \n",
      " 0   Release_Date       9827 non-null   object \n",
      " 1   Title              9827 non-null   object \n",
      " 2   Overview           9827 non-null   object \n",
      " 3   Popularity         9827 non-null   float64\n",
      " 4   Vote_Count         9827 non-null   int64  \n",
      " 5   Vote_Average       9827 non-null   float64\n",
      " 6   Original_Language  9827 non-null   object \n",
      " 7   Genre              9827 non-null   object \n",
      " 8   Poster_Url         9827 non-null   object \n",
      "dtypes: float64(2), int64(1), object(6)\n",
      "memory usage: 691.1+ KB\n",
      "None\n"
     ]
    }
   ],
   "execution_count": 69
  },
  {
   "metadata": {
    "ExecuteTime": {
     "end_time": "2025-07-22T15:26:55.294113Z",
     "start_time": "2025-07-22T15:26:55.272162Z"
    }
   },
   "cell_type": "code",
   "source": "df['Genre'].head()  #top 5 rows printed by default",
   "id": "fae83da1836e4a79",
   "outputs": [
    {
     "data": {
      "text/plain": [
       "0    Action, Adventure, Science Fiction\n",
       "1              Crime, Mystery, Thriller\n",
       "2                              Thriller\n",
       "3    Animation, Comedy, Family, Fantasy\n",
       "4      Action, Adventure, Thriller, War\n",
       "Name: Genre, dtype: object"
      ]
     },
     "execution_count": 70,
     "metadata": {},
     "output_type": "execute_result"
    }
   ],
   "execution_count": 70
  },
  {
   "metadata": {
    "ExecuteTime": {
     "end_time": "2025-07-22T15:26:57.447510Z",
     "start_time": "2025-07-22T15:26:57.381664Z"
    }
   },
   "cell_type": "code",
   "source": "print(df.duplicated().sum()) #checking for duplicate values",
   "id": "7fedd164db7433ff",
   "outputs": [
    {
     "name": "stdout",
     "output_type": "stream",
     "text": [
      "0\n"
     ]
    }
   ],
   "execution_count": 71
  },
  {
   "metadata": {
    "ExecuteTime": {
     "end_time": "2025-07-22T15:26:59.025416Z",
     "start_time": "2025-07-22T15:26:58.949390Z"
    }
   },
   "cell_type": "code",
   "source": "print(df.describe())   #performs all the statistical functions in numeric columns",
   "id": "d08f5837b6cc6612",
   "outputs": [
    {
     "name": "stdout",
     "output_type": "stream",
     "text": [
      "        Popularity    Vote_Count  Vote_Average\n",
      "count  9827.000000   9827.000000   9827.000000\n",
      "mean     40.326088   1392.805536      6.439534\n",
      "std     108.873998   2611.206907      1.129759\n",
      "min      13.354000      0.000000      0.000000\n",
      "25%      16.128500    146.000000      5.900000\n",
      "50%      21.199000    444.000000      6.500000\n",
      "75%      35.191500   1376.000000      7.100000\n",
      "max    5083.954000  31077.000000     10.000000\n"
     ]
    }
   ],
   "execution_count": 72
  },
  {
   "metadata": {},
   "cell_type": "markdown",
   "source": [
    "\n",
    "• Exploration Summary\n",
    "• we have a dataframe consisting of 9827 rows and 9 columns.\n",
    "• our dataset looks a bit tidy with no NaNs nor duplicated values.\n",
    "• Release_Date column needs to be casted into date time and to extract only the year value.\n",
    "• Overview, Original_Language and Poster-Url wouldn't be so useful during analysis, so we'll drop them.\n",
    "• there is noticeable outliers in Popularity column\n",
    "• Vote_Average better be categorised for proper analysis.\n",
    "• Genre column has comma seperated values and white spaces that needs to be handled"
   ],
   "id": "4443ce07c6828280"
  },
  {
   "metadata": {
    "ExecuteTime": {
     "end_time": "2025-07-22T15:27:01.883004Z",
     "start_time": "2025-07-22T15:27:01.817598Z"
    }
   },
   "cell_type": "code",
   "source": [
    "#convert object type to date type\n",
    "\n",
    "df['Release_Date'] = pd.to_datetime(\n",
    "    df['Release_Date'],\n",
    "    format='%Y-%m-%d',  # match your actual format\n",
    "    errors='coerce'\n",
    ")\n",
    "print(df['Release_Date'].dtypes)"
   ],
   "id": "adbf1fd6220163fc",
   "outputs": [
    {
     "name": "stdout",
     "output_type": "stream",
     "text": [
      "datetime64[ns]\n"
     ]
    }
   ],
   "execution_count": 73
  },
  {
   "metadata": {
    "ExecuteTime": {
     "end_time": "2025-07-22T15:27:04.131792Z",
     "start_time": "2025-07-22T15:27:04.112892Z"
    }
   },
   "cell_type": "code",
   "source": [
    "#extracting only year from date\n",
    "\n",
    "df['Release_Date'] = df['Release_Date'].dt.year\n",
    "print(df['Release_Date'])"
   ],
   "id": "dacc13c4900d2c3a",
   "outputs": [
    {
     "name": "stdout",
     "output_type": "stream",
     "text": [
      "0       2021\n",
      "1       2022\n",
      "2       2022\n",
      "3       2021\n",
      "4       2021\n",
      "        ... \n",
      "9822    1973\n",
      "9823    2020\n",
      "9824    2016\n",
      "9825    2021\n",
      "9826    1984\n",
      "Name: Release_Date, Length: 9827, dtype: int32\n"
     ]
    }
   ],
   "execution_count": 74
  },
  {
   "metadata": {
    "ExecuteTime": {
     "end_time": "2025-07-22T15:27:06.572069Z",
     "start_time": "2025-07-22T15:27:06.546382Z"
    }
   },
   "cell_type": "code",
   "source": "df.head()",
   "id": "22dcc2c22802c4be",
   "outputs": [
    {
     "data": {
      "text/plain": [
       "   Release_Date                    Title  \\\n",
       "0          2021  Spider-Man: No Way Home   \n",
       "1          2022               The Batman   \n",
       "2          2022                  No Exit   \n",
       "3          2021                  Encanto   \n",
       "4          2021           The King's Man   \n",
       "\n",
       "                                            Overview  Popularity  Vote_Count  \\\n",
       "0  Peter Parker is unmasked and no longer able to...    5083.954        8940   \n",
       "1  In his second year of fighting crime, Batman u...    3827.658        1151   \n",
       "2  Stranded at a rest stop in the mountains durin...    2618.087         122   \n",
       "3  The tale of an extraordinary family, the Madri...    2402.201        5076   \n",
       "4  As a collection of history's worst tyrants and...    1895.511        1793   \n",
       "\n",
       "   Vote_Average Original_Language                               Genre  \\\n",
       "0           8.3                en  Action, Adventure, Science Fiction   \n",
       "1           8.1                en            Crime, Mystery, Thriller   \n",
       "2           6.3                en                            Thriller   \n",
       "3           7.7                en  Animation, Comedy, Family, Fantasy   \n",
       "4           7.0                en    Action, Adventure, Thriller, War   \n",
       "\n",
       "                                          Poster_Url  \n",
       "0  https://image.tmdb.org/t/p/original/1g0dhYtq4i...  \n",
       "1  https://image.tmdb.org/t/p/original/74xTEgt7R3...  \n",
       "2  https://image.tmdb.org/t/p/original/vDHsLnOWKl...  \n",
       "3  https://image.tmdb.org/t/p/original/4j0PNHkMr5...  \n",
       "4  https://image.tmdb.org/t/p/original/aq4Pwv5Xeu...  "
      ],
      "text/html": [
       "<div>\n",
       "<style scoped>\n",
       "    .dataframe tbody tr th:only-of-type {\n",
       "        vertical-align: middle;\n",
       "    }\n",
       "\n",
       "    .dataframe tbody tr th {\n",
       "        vertical-align: top;\n",
       "    }\n",
       "\n",
       "    .dataframe thead th {\n",
       "        text-align: right;\n",
       "    }\n",
       "</style>\n",
       "<table border=\"1\" class=\"dataframe\">\n",
       "  <thead>\n",
       "    <tr style=\"text-align: right;\">\n",
       "      <th></th>\n",
       "      <th>Release_Date</th>\n",
       "      <th>Title</th>\n",
       "      <th>Overview</th>\n",
       "      <th>Popularity</th>\n",
       "      <th>Vote_Count</th>\n",
       "      <th>Vote_Average</th>\n",
       "      <th>Original_Language</th>\n",
       "      <th>Genre</th>\n",
       "      <th>Poster_Url</th>\n",
       "    </tr>\n",
       "  </thead>\n",
       "  <tbody>\n",
       "    <tr>\n",
       "      <th>0</th>\n",
       "      <td>2021</td>\n",
       "      <td>Spider-Man: No Way Home</td>\n",
       "      <td>Peter Parker is unmasked and no longer able to...</td>\n",
       "      <td>5083.954</td>\n",
       "      <td>8940</td>\n",
       "      <td>8.3</td>\n",
       "      <td>en</td>\n",
       "      <td>Action, Adventure, Science Fiction</td>\n",
       "      <td>https://image.tmdb.org/t/p/original/1g0dhYtq4i...</td>\n",
       "    </tr>\n",
       "    <tr>\n",
       "      <th>1</th>\n",
       "      <td>2022</td>\n",
       "      <td>The Batman</td>\n",
       "      <td>In his second year of fighting crime, Batman u...</td>\n",
       "      <td>3827.658</td>\n",
       "      <td>1151</td>\n",
       "      <td>8.1</td>\n",
       "      <td>en</td>\n",
       "      <td>Crime, Mystery, Thriller</td>\n",
       "      <td>https://image.tmdb.org/t/p/original/74xTEgt7R3...</td>\n",
       "    </tr>\n",
       "    <tr>\n",
       "      <th>2</th>\n",
       "      <td>2022</td>\n",
       "      <td>No Exit</td>\n",
       "      <td>Stranded at a rest stop in the mountains durin...</td>\n",
       "      <td>2618.087</td>\n",
       "      <td>122</td>\n",
       "      <td>6.3</td>\n",
       "      <td>en</td>\n",
       "      <td>Thriller</td>\n",
       "      <td>https://image.tmdb.org/t/p/original/vDHsLnOWKl...</td>\n",
       "    </tr>\n",
       "    <tr>\n",
       "      <th>3</th>\n",
       "      <td>2021</td>\n",
       "      <td>Encanto</td>\n",
       "      <td>The tale of an extraordinary family, the Madri...</td>\n",
       "      <td>2402.201</td>\n",
       "      <td>5076</td>\n",
       "      <td>7.7</td>\n",
       "      <td>en</td>\n",
       "      <td>Animation, Comedy, Family, Fantasy</td>\n",
       "      <td>https://image.tmdb.org/t/p/original/4j0PNHkMr5...</td>\n",
       "    </tr>\n",
       "    <tr>\n",
       "      <th>4</th>\n",
       "      <td>2021</td>\n",
       "      <td>The King's Man</td>\n",
       "      <td>As a collection of history's worst tyrants and...</td>\n",
       "      <td>1895.511</td>\n",
       "      <td>1793</td>\n",
       "      <td>7.0</td>\n",
       "      <td>en</td>\n",
       "      <td>Action, Adventure, Thriller, War</td>\n",
       "      <td>https://image.tmdb.org/t/p/original/aq4Pwv5Xeu...</td>\n",
       "    </tr>\n",
       "  </tbody>\n",
       "</table>\n",
       "</div>"
      ]
     },
     "execution_count": 75,
     "metadata": {},
     "output_type": "execute_result"
    }
   ],
   "execution_count": 75
  },
  {
   "metadata": {
    "ExecuteTime": {
     "end_time": "2025-07-22T15:27:08.914646Z",
     "start_time": "2025-07-22T15:27:08.898681Z"
    }
   },
   "cell_type": "code",
   "source": [
    "#dropping unwanted columns\n",
    "\n",
    "cols = [\"Overview\", \"Original_Language\", \"Poster_Url\"]\n",
    "\n",
    "df.drop(cols, axis=1, inplace=True) # axis=1 for columns and for permanently deleting the data inplace=True\n",
    "\n",
    "df.columns"
   ],
   "id": "43c06d203005c9ce",
   "outputs": [
    {
     "data": {
      "text/plain": [
       "Index(['Release_Date', 'Title', 'Popularity', 'Vote_Count', 'Vote_Average',\n",
       "       'Genre'],\n",
       "      dtype='object')"
      ]
     },
     "execution_count": 76,
     "metadata": {},
     "output_type": "execute_result"
    }
   ],
   "execution_count": 76
  },
  {
   "metadata": {
    "ExecuteTime": {
     "end_time": "2025-07-22T15:27:11.013217Z",
     "start_time": "2025-07-22T15:27:10.992658Z"
    }
   },
   "cell_type": "code",
   "source": "df.head()",
   "id": "f59911234073858b",
   "outputs": [
    {
     "data": {
      "text/plain": [
       "   Release_Date                    Title  Popularity  Vote_Count  \\\n",
       "0          2021  Spider-Man: No Way Home    5083.954        8940   \n",
       "1          2022               The Batman    3827.658        1151   \n",
       "2          2022                  No Exit    2618.087         122   \n",
       "3          2021                  Encanto    2402.201        5076   \n",
       "4          2021           The King's Man    1895.511        1793   \n",
       "\n",
       "   Vote_Average                               Genre  \n",
       "0           8.3  Action, Adventure, Science Fiction  \n",
       "1           8.1            Crime, Mystery, Thriller  \n",
       "2           6.3                            Thriller  \n",
       "3           7.7  Animation, Comedy, Family, Fantasy  \n",
       "4           7.0    Action, Adventure, Thriller, War  "
      ],
      "text/html": [
       "<div>\n",
       "<style scoped>\n",
       "    .dataframe tbody tr th:only-of-type {\n",
       "        vertical-align: middle;\n",
       "    }\n",
       "\n",
       "    .dataframe tbody tr th {\n",
       "        vertical-align: top;\n",
       "    }\n",
       "\n",
       "    .dataframe thead th {\n",
       "        text-align: right;\n",
       "    }\n",
       "</style>\n",
       "<table border=\"1\" class=\"dataframe\">\n",
       "  <thead>\n",
       "    <tr style=\"text-align: right;\">\n",
       "      <th></th>\n",
       "      <th>Release_Date</th>\n",
       "      <th>Title</th>\n",
       "      <th>Popularity</th>\n",
       "      <th>Vote_Count</th>\n",
       "      <th>Vote_Average</th>\n",
       "      <th>Genre</th>\n",
       "    </tr>\n",
       "  </thead>\n",
       "  <tbody>\n",
       "    <tr>\n",
       "      <th>0</th>\n",
       "      <td>2021</td>\n",
       "      <td>Spider-Man: No Way Home</td>\n",
       "      <td>5083.954</td>\n",
       "      <td>8940</td>\n",
       "      <td>8.3</td>\n",
       "      <td>Action, Adventure, Science Fiction</td>\n",
       "    </tr>\n",
       "    <tr>\n",
       "      <th>1</th>\n",
       "      <td>2022</td>\n",
       "      <td>The Batman</td>\n",
       "      <td>3827.658</td>\n",
       "      <td>1151</td>\n",
       "      <td>8.1</td>\n",
       "      <td>Crime, Mystery, Thriller</td>\n",
       "    </tr>\n",
       "    <tr>\n",
       "      <th>2</th>\n",
       "      <td>2022</td>\n",
       "      <td>No Exit</td>\n",
       "      <td>2618.087</td>\n",
       "      <td>122</td>\n",
       "      <td>6.3</td>\n",
       "      <td>Thriller</td>\n",
       "    </tr>\n",
       "    <tr>\n",
       "      <th>3</th>\n",
       "      <td>2021</td>\n",
       "      <td>Encanto</td>\n",
       "      <td>2402.201</td>\n",
       "      <td>5076</td>\n",
       "      <td>7.7</td>\n",
       "      <td>Animation, Comedy, Family, Fantasy</td>\n",
       "    </tr>\n",
       "    <tr>\n",
       "      <th>4</th>\n",
       "      <td>2021</td>\n",
       "      <td>The King's Man</td>\n",
       "      <td>1895.511</td>\n",
       "      <td>1793</td>\n",
       "      <td>7.0</td>\n",
       "      <td>Action, Adventure, Thriller, War</td>\n",
       "    </tr>\n",
       "  </tbody>\n",
       "</table>\n",
       "</div>"
      ]
     },
     "execution_count": 77,
     "metadata": {},
     "output_type": "execute_result"
    }
   ],
   "execution_count": 77
  },
  {
   "metadata": {
    "ExecuteTime": {
     "end_time": "2025-07-22T15:27:13.350426Z",
     "start_time": "2025-07-22T15:27:13.328905Z"
    }
   },
   "cell_type": "code",
   "source": "df.info()",
   "id": "72224edae3f4a195",
   "outputs": [
    {
     "name": "stdout",
     "output_type": "stream",
     "text": [
      "<class 'pandas.core.frame.DataFrame'>\n",
      "RangeIndex: 9827 entries, 0 to 9826\n",
      "Data columns (total 6 columns):\n",
      " #   Column        Non-Null Count  Dtype  \n",
      "---  ------        --------------  -----  \n",
      " 0   Release_Date  9827 non-null   int32  \n",
      " 1   Title         9827 non-null   object \n",
      " 2   Popularity    9827 non-null   float64\n",
      " 3   Vote_Count    9827 non-null   int64  \n",
      " 4   Vote_Average  9827 non-null   float64\n",
      " 5   Genre         9827 non-null   object \n",
      "dtypes: float64(2), int32(1), int64(1), object(2)\n",
      "memory usage: 422.4+ KB\n"
     ]
    }
   ],
   "execution_count": 78
  },
  {
   "metadata": {
    "ExecuteTime": {
     "end_time": "2025-07-22T15:27:21.204451Z",
     "start_time": "2025-07-22T15:27:21.195512Z"
    }
   },
   "cell_type": "code",
   "source": [
    "#Categorizing Vote_Average Column as popular,average,below average, not popular\n",
    "\n",
    "def categorize_col(df,col, labels):\n",
    "        # setting the edges to cut the column accordingly\n",
    "    edges = [df[col].describe()['min'],\n",
    "            df[col].describe()['25%'],\n",
    "            df[col].describe()['50%'],\n",
    "            df[col].describe()['75%'],\n",
    "            df[col].describe()['max']]\n",
    "\n",
    "\n",
    "    df[col]=pd.cut(df[col], edges, labels = labels, duplicates='drop')\n",
    "    return df\n"
   ],
   "id": "dd167fe56023f5d2",
   "outputs": [],
   "execution_count": 80
  },
  {
   "metadata": {
    "ExecuteTime": {
     "end_time": "2025-07-22T15:27:26.640479Z",
     "start_time": "2025-07-22T15:27:26.591844Z"
    }
   },
   "cell_type": "code",
   "source": [
    "# define labels for edges\n",
    "labels = ['not_popular', 'below_avg', 'average', 'popular']\n",
    "\n",
    "# categorize column based on labels and edges\n",
    "categorize_col(df, 'Vote_Average', labels)\n",
    "\n",
    "# confirming changes\n",
    "df['Vote_Average'].unique()\n"
   ],
   "id": "3286dca64bd91b2",
   "outputs": [
    {
     "data": {
      "text/plain": [
       "['popular', 'below_avg', 'average', 'not_popular', NaN]\n",
       "Categories (4, object): ['not_popular' < 'below_avg' < 'average' < 'popular']"
      ]
     },
     "execution_count": 81,
     "metadata": {},
     "output_type": "execute_result"
    }
   ],
   "execution_count": 81
  },
  {
   "metadata": {
    "ExecuteTime": {
     "end_time": "2025-07-22T15:27:29.171441Z",
     "start_time": "2025-07-22T15:27:29.154599Z"
    }
   },
   "cell_type": "code",
   "source": "df.head()",
   "id": "b0b7025e8a17eda8",
   "outputs": [
    {
     "data": {
      "text/plain": [
       "   Release_Date                    Title  Popularity  Vote_Count Vote_Average  \\\n",
       "0          2021  Spider-Man: No Way Home    5083.954        8940      popular   \n",
       "1          2022               The Batman    3827.658        1151      popular   \n",
       "2          2022                  No Exit    2618.087         122    below_avg   \n",
       "3          2021                  Encanto    2402.201        5076      popular   \n",
       "4          2021           The King's Man    1895.511        1793      average   \n",
       "\n",
       "                                Genre  \n",
       "0  Action, Adventure, Science Fiction  \n",
       "1            Crime, Mystery, Thriller  \n",
       "2                            Thriller  \n",
       "3  Animation, Comedy, Family, Fantasy  \n",
       "4    Action, Adventure, Thriller, War  "
      ],
      "text/html": [
       "<div>\n",
       "<style scoped>\n",
       "    .dataframe tbody tr th:only-of-type {\n",
       "        vertical-align: middle;\n",
       "    }\n",
       "\n",
       "    .dataframe tbody tr th {\n",
       "        vertical-align: top;\n",
       "    }\n",
       "\n",
       "    .dataframe thead th {\n",
       "        text-align: right;\n",
       "    }\n",
       "</style>\n",
       "<table border=\"1\" class=\"dataframe\">\n",
       "  <thead>\n",
       "    <tr style=\"text-align: right;\">\n",
       "      <th></th>\n",
       "      <th>Release_Date</th>\n",
       "      <th>Title</th>\n",
       "      <th>Popularity</th>\n",
       "      <th>Vote_Count</th>\n",
       "      <th>Vote_Average</th>\n",
       "      <th>Genre</th>\n",
       "    </tr>\n",
       "  </thead>\n",
       "  <tbody>\n",
       "    <tr>\n",
       "      <th>0</th>\n",
       "      <td>2021</td>\n",
       "      <td>Spider-Man: No Way Home</td>\n",
       "      <td>5083.954</td>\n",
       "      <td>8940</td>\n",
       "      <td>popular</td>\n",
       "      <td>Action, Adventure, Science Fiction</td>\n",
       "    </tr>\n",
       "    <tr>\n",
       "      <th>1</th>\n",
       "      <td>2022</td>\n",
       "      <td>The Batman</td>\n",
       "      <td>3827.658</td>\n",
       "      <td>1151</td>\n",
       "      <td>popular</td>\n",
       "      <td>Crime, Mystery, Thriller</td>\n",
       "    </tr>\n",
       "    <tr>\n",
       "      <th>2</th>\n",
       "      <td>2022</td>\n",
       "      <td>No Exit</td>\n",
       "      <td>2618.087</td>\n",
       "      <td>122</td>\n",
       "      <td>below_avg</td>\n",
       "      <td>Thriller</td>\n",
       "    </tr>\n",
       "    <tr>\n",
       "      <th>3</th>\n",
       "      <td>2021</td>\n",
       "      <td>Encanto</td>\n",
       "      <td>2402.201</td>\n",
       "      <td>5076</td>\n",
       "      <td>popular</td>\n",
       "      <td>Animation, Comedy, Family, Fantasy</td>\n",
       "    </tr>\n",
       "    <tr>\n",
       "      <th>4</th>\n",
       "      <td>2021</td>\n",
       "      <td>The King's Man</td>\n",
       "      <td>1895.511</td>\n",
       "      <td>1793</td>\n",
       "      <td>average</td>\n",
       "      <td>Action, Adventure, Thriller, War</td>\n",
       "    </tr>\n",
       "  </tbody>\n",
       "</table>\n",
       "</div>"
      ]
     },
     "execution_count": 82,
     "metadata": {},
     "output_type": "execute_result"
    }
   ],
   "execution_count": 82
  },
  {
   "metadata": {
    "ExecuteTime": {
     "end_time": "2025-07-22T15:27:32.197700Z",
     "start_time": "2025-07-22T15:27:32.186741Z"
    }
   },
   "cell_type": "code",
   "source": "df['Vote_Average'].value_counts()",
   "id": "fc7c60cabc7e32df",
   "outputs": [
    {
     "data": {
      "text/plain": [
       "Vote_Average\n",
       "not_popular    2467\n",
       "popular        2450\n",
       "average        2412\n",
       "below_avg      2398\n",
       "Name: count, dtype: int64"
      ]
     },
     "execution_count": 83,
     "metadata": {},
     "output_type": "execute_result"
    }
   ],
   "execution_count": 83
  },
  {
   "metadata": {
    "ExecuteTime": {
     "end_time": "2025-07-22T15:27:36.794736Z",
     "start_time": "2025-07-22T15:27:36.771151Z"
    }
   },
   "cell_type": "code",
   "source": [
    "#checking for null values\n",
    "df.dropna(inplace=True)\n",
    "df.isna().sum()"
   ],
   "id": "5aeb8dcb3b15efe5",
   "outputs": [
    {
     "data": {
      "text/plain": [
       "Release_Date    0\n",
       "Title           0\n",
       "Popularity      0\n",
       "Vote_Count      0\n",
       "Vote_Average    0\n",
       "Genre           0\n",
       "dtype: int64"
      ]
     },
     "execution_count": 84,
     "metadata": {},
     "output_type": "execute_result"
    }
   ],
   "execution_count": 84
  },
  {
   "metadata": {
    "ExecuteTime": {
     "end_time": "2025-07-22T15:27:45.772809Z",
     "start_time": "2025-07-22T15:27:45.685204Z"
    }
   },
   "cell_type": "code",
   "source": [
    "#split the genre into list and one movie should have one genre in one row\n",
    "\n",
    "df['Genre'] = df['Genre'].str.split(', ')\n",
    "\n",
    "#exploding the genre\n",
    "df = df.explode('Genre').reset_index(drop = True)\n",
    "\n",
    "df.head()"
   ],
   "id": "1b5b068e0c86ec54",
   "outputs": [
    {
     "data": {
      "text/plain": [
       "   Release_Date                    Title  Popularity  Vote_Count Vote_Average  \\\n",
       "0          2021  Spider-Man: No Way Home    5083.954        8940      popular   \n",
       "1          2021  Spider-Man: No Way Home    5083.954        8940      popular   \n",
       "2          2021  Spider-Man: No Way Home    5083.954        8940      popular   \n",
       "3          2022               The Batman    3827.658        1151      popular   \n",
       "4          2022               The Batman    3827.658        1151      popular   \n",
       "\n",
       "             Genre  \n",
       "0           Action  \n",
       "1        Adventure  \n",
       "2  Science Fiction  \n",
       "3            Crime  \n",
       "4          Mystery  "
      ],
      "text/html": [
       "<div>\n",
       "<style scoped>\n",
       "    .dataframe tbody tr th:only-of-type {\n",
       "        vertical-align: middle;\n",
       "    }\n",
       "\n",
       "    .dataframe tbody tr th {\n",
       "        vertical-align: top;\n",
       "    }\n",
       "\n",
       "    .dataframe thead th {\n",
       "        text-align: right;\n",
       "    }\n",
       "</style>\n",
       "<table border=\"1\" class=\"dataframe\">\n",
       "  <thead>\n",
       "    <tr style=\"text-align: right;\">\n",
       "      <th></th>\n",
       "      <th>Release_Date</th>\n",
       "      <th>Title</th>\n",
       "      <th>Popularity</th>\n",
       "      <th>Vote_Count</th>\n",
       "      <th>Vote_Average</th>\n",
       "      <th>Genre</th>\n",
       "    </tr>\n",
       "  </thead>\n",
       "  <tbody>\n",
       "    <tr>\n",
       "      <th>0</th>\n",
       "      <td>2021</td>\n",
       "      <td>Spider-Man: No Way Home</td>\n",
       "      <td>5083.954</td>\n",
       "      <td>8940</td>\n",
       "      <td>popular</td>\n",
       "      <td>Action</td>\n",
       "    </tr>\n",
       "    <tr>\n",
       "      <th>1</th>\n",
       "      <td>2021</td>\n",
       "      <td>Spider-Man: No Way Home</td>\n",
       "      <td>5083.954</td>\n",
       "      <td>8940</td>\n",
       "      <td>popular</td>\n",
       "      <td>Adventure</td>\n",
       "    </tr>\n",
       "    <tr>\n",
       "      <th>2</th>\n",
       "      <td>2021</td>\n",
       "      <td>Spider-Man: No Way Home</td>\n",
       "      <td>5083.954</td>\n",
       "      <td>8940</td>\n",
       "      <td>popular</td>\n",
       "      <td>Science Fiction</td>\n",
       "    </tr>\n",
       "    <tr>\n",
       "      <th>3</th>\n",
       "      <td>2022</td>\n",
       "      <td>The Batman</td>\n",
       "      <td>3827.658</td>\n",
       "      <td>1151</td>\n",
       "      <td>popular</td>\n",
       "      <td>Crime</td>\n",
       "    </tr>\n",
       "    <tr>\n",
       "      <th>4</th>\n",
       "      <td>2022</td>\n",
       "      <td>The Batman</td>\n",
       "      <td>3827.658</td>\n",
       "      <td>1151</td>\n",
       "      <td>popular</td>\n",
       "      <td>Mystery</td>\n",
       "    </tr>\n",
       "  </tbody>\n",
       "</table>\n",
       "</div>"
      ]
     },
     "execution_count": 86,
     "metadata": {},
     "output_type": "execute_result"
    }
   ],
   "execution_count": 86
  },
  {
   "metadata": {
    "ExecuteTime": {
     "end_time": "2025-07-22T15:28:56.969967Z",
     "start_time": "2025-07-22T15:28:56.738198Z"
    }
   },
   "cell_type": "code",
   "source": [
    "# casting column into category\n",
    "df['Genre'] = df['Genre'].astype('category')\n",
    "\n",
    "df.info()\n"
   ],
   "id": "936a87eca3966656",
   "outputs": [
    {
     "name": "stdout",
     "output_type": "stream",
     "text": [
      "<class 'pandas.core.frame.DataFrame'>\n",
      "RangeIndex: 25552 entries, 0 to 25551\n",
      "Data columns (total 6 columns):\n",
      " #   Column        Non-Null Count  Dtype   \n",
      "---  ------        --------------  -----   \n",
      " 0   Release_Date  25552 non-null  int32   \n",
      " 1   Title         25552 non-null  object  \n",
      " 2   Popularity    25552 non-null  float64 \n",
      " 3   Vote_Count    25552 non-null  int64   \n",
      " 4   Vote_Average  25552 non-null  category\n",
      " 5   Genre         25552 non-null  category\n",
      "dtypes: category(2), float64(1), int32(1), int64(1), object(1)\n",
      "memory usage: 749.6+ KB\n"
     ]
    }
   ],
   "execution_count": 88
  },
  {
   "metadata": {
    "ExecuteTime": {
     "end_time": "2025-07-22T15:29:05.569615Z",
     "start_time": "2025-07-22T15:29:05.545156Z"
    }
   },
   "cell_type": "code",
   "source": [
    "# confirming changes\n",
    "df['Genre'].dtypes"
   ],
   "id": "1c65e416f5f046dd",
   "outputs": [
    {
     "data": {
      "text/plain": [
       "CategoricalDtype(categories=['Action', 'Adventure', 'Animation', 'Comedy', 'Crime',\n",
       "                  'Documentary', 'Drama', 'Family', 'Fantasy', 'History',\n",
       "                  'Horror', 'Music', 'Mystery', 'Romance', 'Science Fiction',\n",
       "                  'TV Movie', 'Thriller', 'War', 'Western'],\n",
       ", ordered=False, categories_dtype=object)"
      ]
     },
     "execution_count": 89,
     "metadata": {},
     "output_type": "execute_result"
    }
   ],
   "execution_count": 89
  },
  {
   "metadata": {
    "ExecuteTime": {
     "end_time": "2025-07-22T15:29:38.695613Z",
     "start_time": "2025-07-22T15:29:38.664322Z"
    }
   },
   "cell_type": "code",
   "source": "df.info()",
   "id": "3ccf94ac20039ede",
   "outputs": [
    {
     "name": "stdout",
     "output_type": "stream",
     "text": [
      "<class 'pandas.core.frame.DataFrame'>\n",
      "RangeIndex: 25552 entries, 0 to 25551\n",
      "Data columns (total 6 columns):\n",
      " #   Column        Non-Null Count  Dtype   \n",
      "---  ------        --------------  -----   \n",
      " 0   Release_Date  25552 non-null  int32   \n",
      " 1   Title         25552 non-null  object  \n",
      " 2   Popularity    25552 non-null  float64 \n",
      " 3   Vote_Count    25552 non-null  int64   \n",
      " 4   Vote_Average  25552 non-null  category\n",
      " 5   Genre         25552 non-null  category\n",
      "dtypes: category(2), float64(1), int32(1), int64(1), object(1)\n",
      "memory usage: 749.6+ KB\n"
     ]
    }
   ],
   "execution_count": 90
  },
  {
   "metadata": {
    "ExecuteTime": {
     "end_time": "2025-07-22T15:29:52.673211Z",
     "start_time": "2025-07-22T15:29:51.335581Z"
    }
   },
   "cell_type": "code",
   "source": "df.nunique()",
   "id": "d691a554237f617f",
   "outputs": [
    {
     "data": {
      "text/plain": [
       "Release_Date     100\n",
       "Title           9415\n",
       "Popularity      8088\n",
       "Vote_Count      3265\n",
       "Vote_Average       4\n",
       "Genre             19\n",
       "dtype: int64"
      ]
     },
     "execution_count": 91,
     "metadata": {},
     "output_type": "execute_result"
    }
   ],
   "execution_count": 91
  },
  {
   "metadata": {
    "ExecuteTime": {
     "end_time": "2025-07-22T15:30:18.896106Z",
     "start_time": "2025-07-22T15:30:18.867489Z"
    }
   },
   "cell_type": "code",
   "source": "df.head()",
   "id": "7377c613550e4155",
   "outputs": [
    {
     "data": {
      "text/plain": [
       "   Release_Date                    Title  Popularity  Vote_Count Vote_Average  \\\n",
       "0          2021  Spider-Man: No Way Home    5083.954        8940      popular   \n",
       "1          2021  Spider-Man: No Way Home    5083.954        8940      popular   \n",
       "2          2021  Spider-Man: No Way Home    5083.954        8940      popular   \n",
       "3          2022               The Batman    3827.658        1151      popular   \n",
       "4          2022               The Batman    3827.658        1151      popular   \n",
       "\n",
       "             Genre  \n",
       "0           Action  \n",
       "1        Adventure  \n",
       "2  Science Fiction  \n",
       "3            Crime  \n",
       "4          Mystery  "
      ],
      "text/html": [
       "<div>\n",
       "<style scoped>\n",
       "    .dataframe tbody tr th:only-of-type {\n",
       "        vertical-align: middle;\n",
       "    }\n",
       "\n",
       "    .dataframe tbody tr th {\n",
       "        vertical-align: top;\n",
       "    }\n",
       "\n",
       "    .dataframe thead th {\n",
       "        text-align: right;\n",
       "    }\n",
       "</style>\n",
       "<table border=\"1\" class=\"dataframe\">\n",
       "  <thead>\n",
       "    <tr style=\"text-align: right;\">\n",
       "      <th></th>\n",
       "      <th>Release_Date</th>\n",
       "      <th>Title</th>\n",
       "      <th>Popularity</th>\n",
       "      <th>Vote_Count</th>\n",
       "      <th>Vote_Average</th>\n",
       "      <th>Genre</th>\n",
       "    </tr>\n",
       "  </thead>\n",
       "  <tbody>\n",
       "    <tr>\n",
       "      <th>0</th>\n",
       "      <td>2021</td>\n",
       "      <td>Spider-Man: No Way Home</td>\n",
       "      <td>5083.954</td>\n",
       "      <td>8940</td>\n",
       "      <td>popular</td>\n",
       "      <td>Action</td>\n",
       "    </tr>\n",
       "    <tr>\n",
       "      <th>1</th>\n",
       "      <td>2021</td>\n",
       "      <td>Spider-Man: No Way Home</td>\n",
       "      <td>5083.954</td>\n",
       "      <td>8940</td>\n",
       "      <td>popular</td>\n",
       "      <td>Adventure</td>\n",
       "    </tr>\n",
       "    <tr>\n",
       "      <th>2</th>\n",
       "      <td>2021</td>\n",
       "      <td>Spider-Man: No Way Home</td>\n",
       "      <td>5083.954</td>\n",
       "      <td>8940</td>\n",
       "      <td>popular</td>\n",
       "      <td>Science Fiction</td>\n",
       "    </tr>\n",
       "    <tr>\n",
       "      <th>3</th>\n",
       "      <td>2022</td>\n",
       "      <td>The Batman</td>\n",
       "      <td>3827.658</td>\n",
       "      <td>1151</td>\n",
       "      <td>popular</td>\n",
       "      <td>Crime</td>\n",
       "    </tr>\n",
       "    <tr>\n",
       "      <th>4</th>\n",
       "      <td>2022</td>\n",
       "      <td>The Batman</td>\n",
       "      <td>3827.658</td>\n",
       "      <td>1151</td>\n",
       "      <td>popular</td>\n",
       "      <td>Mystery</td>\n",
       "    </tr>\n",
       "  </tbody>\n",
       "</table>\n",
       "</div>"
      ]
     },
     "execution_count": 92,
     "metadata": {},
     "output_type": "execute_result"
    }
   ],
   "execution_count": 92
  },
  {
   "metadata": {
    "ExecuteTime": {
     "end_time": "2025-07-22T15:33:59.481037Z",
     "start_time": "2025-07-22T15:33:57.800230Z"
    }
   },
   "cell_type": "code",
   "source": [
    "#Data Visualization using Seaborn\n",
    "#the most frequent genre in the dataset?\n",
    "sns.set_style('darkgrid')\n",
    "\n",
    "sns.catplot(y ='Genre',data=df, kind='count', order = df['Genre'].value_counts().index,color = \"#4287f5\")\n",
    "\n",
    "plt.title('Genre Column Distribution')\n",
    "\n",
    "plt.show()"
   ],
   "id": "d8e83da71f899f28",
   "outputs": [
    {
     "data": {
      "text/plain": [
       "<Figure size 511.111x500 with 1 Axes>"
      ],
      "image/png": "[encoded data removed]"
     },
     "metadata": {},
     "output_type": "display_data"
    }
   ],
   "execution_count": 93
  },
  {
   "metadata": {
    "ExecuteTime": {
     "end_time": "2025-07-22T15:36:06.059647Z",
     "start_time": "2025-07-22T15:36:05.680097Z"
    }
   },
   "cell_type": "code",
   "source": [
    "#What genres has highest votes ?\n",
    "\n",
    "sns.set_style('darkgrid')\n",
    "\n",
    "sns.catplot(y ='Vote_Average',data=df, kind='count', order = df['Vote_Average'].value_counts().index,color = \"#4287f5\")\n",
    "\n",
    "plt.title('Votes Distribution')\n",
    "\n",
    "plt.show()"
   ],
   "id": "7d48e12765b1571a",
   "outputs": [
    {
     "data": {
      "text/plain": [
       "<Figure size 511.111x500 with 1 Axes>"
      ],
      "image/png": "[encoded data removed]"
     },
     "metadata": {},
     "output_type": "display_data"
    }
   ],
   "execution_count": 95
  },
  {
   "metadata": {
    "ExecuteTime": {
     "end_time": "2025-07-22T15:42:07.823280Z",
     "start_time": "2025-07-22T15:42:06.804332Z"
    }
   },
   "cell_type": "code",
   "source": [
    "#Which year has the most filmmed movies?\n",
    "\n",
    "df['Release_Date'].hist()\n",
    "plt.title('Release_Date column distribution')\n",
    "plt.show()"
   ],
   "id": "436fdb6886e52a5f",
   "outputs": [
    {
     "data": {
      "text/plain": [
       "<Figure size 640x480 with 1 Axes>"
      ],
      "image/png": "[encoded data removed]"
     },
     "metadata": {},
     "output_type": "display_data"
    }
   ],
   "execution_count": 102
  },
  {
   "metadata": {
    "ExecuteTime": {
     "end_time": "2025-07-22T15:48:20.904799Z",
     "start_time": "2025-07-22T15:48:18.855283Z"
    }
   },
   "cell_type": "code",
   "source": [
    "#What movie got the highest popularity ? what's its genre ?\n",
    "# checking max popularity in dataset\n",
    "df[df['Popularity'] == df['Popularity'].max()]"
   ],
   "id": "9c3a0b8a8784fcf",
   "outputs": [
    {
     "data": {
      "text/plain": [
       "   Release_Date                    Title  Popularity  Vote_Count Vote_Average  \\\n",
       "0          2021  Spider-Man: No Way Home    5083.954        8940      popular   \n",
       "1          2021  Spider-Man: No Way Home    5083.954        8940      popular   \n",
       "2          2021  Spider-Man: No Way Home    5083.954        8940      popular   \n",
       "\n",
       "             Genre  5083.954  3827.658  2618.087  2402.201  ...    15.775  \\\n",
       "0           Action  5083.954  5083.954  5083.954  5083.954  ...  5083.954   \n",
       "1        Adventure  5083.954  5083.954  5083.954  5083.954  ...  5083.954   \n",
       "2  Science Fiction  5083.954  5083.954  5083.954  5083.954  ...  5083.954   \n",
       "\n",
       "     15.774    15.772    15.771    15.769    15.768    15.763    15.759  \\\n",
       "0  5083.954  5083.954  5083.954  5083.954  5083.954  5083.954  5083.954   \n",
       "1  5083.954  5083.954  5083.954  5083.954  5083.954  5083.954  5083.954   \n",
       "2  5083.954  5083.954  5083.954  5083.954  5083.954  5083.954  5083.954   \n",
       "\n",
       "     15.758    15.757  \n",
       "0  5083.954  5083.954  \n",
       "1  5083.954  5083.954  \n",
       "2  5083.954  5083.954  \n",
       "\n",
       "[3 rows x 6668 columns]"
      ],
      "text/html": [
       "<div>\n",
       "<style scoped>\n",
       "    .dataframe tbody tr th:only-of-type {\n",
       "        vertical-align: middle;\n",
       "    }\n",
       "\n",
       "    .dataframe tbody tr th {\n",
       "        vertical-align: top;\n",
       "    }\n",
       "\n",
       "    .dataframe thead th {\n",
       "        text-align: right;\n",
       "    }\n",
       "</style>\n",
       "<table border=\"1\" class=\"dataframe\">\n",
       "  <thead>\n",
       "    <tr style=\"text-align: right;\">\n",
       "      <th></th>\n",
       "      <th>Release_Date</th>\n",
       "      <th>Title</th>\n",
       "      <th>Popularity</th>\n",
       "      <th>Vote_Count</th>\n",
       "      <th>Vote_Average</th>\n",
       "      <th>Genre</th>\n",
       "      <th>5083.954</th>\n",
       "      <th>3827.658</th>\n",
       "      <th>2618.087</th>\n",
       "      <th>2402.201</th>\n",
       "      <th>...</th>\n",
       "      <th>15.775</th>\n",
       "      <th>15.774</th>\n",
       "      <th>15.772</th>\n",
       "      <th>15.771</th>\n",
       "      <th>15.769</th>\n",
       "      <th>15.768</th>\n",
       "      <th>15.763</th>\n",
       "      <th>15.759</th>\n",
       "      <th>15.758</th>\n",
       "      <th>15.757</th>\n",
       "    </tr>\n",
       "  </thead>\n",
       "  <tbody>\n",
       "    <tr>\n",
       "      <th>0</th>\n",
       "      <td>2021</td>\n",
       "      <td>Spider-Man: No Way Home</td>\n",
       "      <td>5083.954</td>\n",
       "      <td>8940</td>\n",
       "      <td>popular</td>\n",
       "      <td>Action</td>\n",
       "      <td>5083.954</td>\n",
       "      <td>5083.954</td>\n",
       "      <td>5083.954</td>\n",
       "      <td>5083.954</td>\n",
       "      <td>...</td>\n",
       "      <td>5083.954</td>\n",
       "      <td>5083.954</td>\n",
       "      <td>5083.954</td>\n",
       "      <td>5083.954</td>\n",
       "      <td>5083.954</td>\n",
       "      <td>5083.954</td>\n",
       "      <td>5083.954</td>\n",
       "      <td>5083.954</td>\n",
       "      <td>5083.954</td>\n",
       "      <td>5083.954</td>\n",
       "    </tr>\n",
       "    <tr>\n",
       "      <th>1</th>\n",
       "      <td>2021</td>\n",
       "      <td>Spider-Man: No Way Home</td>\n",
       "      <td>5083.954</td>\n",
       "      <td>8940</td>\n",
       "      <td>popular</td>\n",
       "      <td>Adventure</td>\n",
       "      <td>5083.954</td>\n",
       "      <td>5083.954</td>\n",
       "      <td>5083.954</td>\n",
       "      <td>5083.954</td>\n",
       "      <td>...</td>\n",
       "      <td>5083.954</td>\n",
       "      <td>5083.954</td>\n",
       "      <td>5083.954</td>\n",
       "      <td>5083.954</td>\n",
       "      <td>5083.954</td>\n",
       "      <td>5083.954</td>\n",
       "      <td>5083.954</td>\n",
       "      <td>5083.954</td>\n",
       "      <td>5083.954</td>\n",
       "      <td>5083.954</td>\n",
       "    </tr>\n",
       "    <tr>\n",
       "      <th>2</th>\n",
       "      <td>2021</td>\n",
       "      <td>Spider-Man: No Way Home</td>\n",
       "      <td>5083.954</td>\n",
       "      <td>8940</td>\n",
       "      <td>popular</td>\n",
       "      <td>Science Fiction</td>\n",
       "      <td>5083.954</td>\n",
       "      <td>5083.954</td>\n",
       "      <td>5083.954</td>\n",
       "      <td>5083.954</td>\n",
       "      <td>...</td>\n",
       "      <td>5083.954</td>\n",
       "      <td>5083.954</td>\n",
       "      <td>5083.954</td>\n",
       "      <td>5083.954</td>\n",
       "      <td>5083.954</td>\n",
       "      <td>5083.954</td>\n",
       "      <td>5083.954</td>\n",
       "      <td>5083.954</td>\n",
       "      <td>5083.954</td>\n",
       "      <td>5083.954</td>\n",
       "    </tr>\n",
       "  </tbody>\n",
       "</table>\n",
       "<p>3 rows × 6668 columns</p>\n",
       "</div>"
      ]
     },
     "execution_count": 103,
     "metadata": {},
     "output_type": "execute_result"
    }
   ],
   "execution_count": 103
  },
  {
   "metadata": {
    "ExecuteTime": {
     "end_time": "2025-07-22T15:48:56.944844Z",
     "start_time": "2025-07-22T15:48:56.701130Z"
    }
   },
   "cell_type": "code",
   "source": [
    "#What movie got the lowest popularity? what's its genre?\n",
    "# checking max popularity in dataset\n",
    "df[df['Popularity'] == df['Popularity'].min()]"
   ],
   "id": "670f321a2ac5100a",
   "outputs": [
    {
     "data": {
      "text/plain": [
       "       Release_Date                                 Title  Popularity  \\\n",
       "25546          2021  The United States vs. Billie Holiday      13.354   \n",
       "25547          2021  The United States vs. Billie Holiday      13.354   \n",
       "25548          2021  The United States vs. Billie Holiday      13.354   \n",
       "25549          1984                               Threads      13.354   \n",
       "25550          1984                               Threads      13.354   \n",
       "25551          1984                               Threads      13.354   \n",
       "\n",
       "       Vote_Count Vote_Average            Genre  5083.954  3827.658  2618.087  \\\n",
       "25546         152      average            Music  5083.954  5083.954  5083.954   \n",
       "25547         152      average            Drama  5083.954  5083.954  5083.954   \n",
       "25548         152      average          History  5083.954  5083.954  5083.954   \n",
       "25549         186      popular              War  5083.954  5083.954  5083.954   \n",
       "25550         186      popular            Drama  5083.954  5083.954  5083.954   \n",
       "25551         186      popular  Science Fiction  5083.954  5083.954  5083.954   \n",
       "\n",
       "       2402.201  ...    15.775    15.774    15.772    15.771    15.769  \\\n",
       "25546  5083.954  ...  5083.954  5083.954  5083.954  5083.954  5083.954   \n",
       "25547  5083.954  ...  5083.954  5083.954  5083.954  5083.954  5083.954   \n",
       "25548  5083.954  ...  5083.954  5083.954  5083.954  5083.954  5083.954   \n",
       "25549  5083.954  ...  5083.954  5083.954  5083.954  5083.954  5083.954   \n",
       "25550  5083.954  ...  5083.954  5083.954  5083.954  5083.954  5083.954   \n",
       "25551  5083.954  ...  5083.954  5083.954  5083.954  5083.954  5083.954   \n",
       "\n",
       "         15.768    15.763    15.759    15.758    15.757  \n",
       "25546  5083.954  5083.954  5083.954  5083.954  5083.954  \n",
       "25547  5083.954  5083.954  5083.954  5083.954  5083.954  \n",
       "25548  5083.954  5083.954  5083.954  5083.954  5083.954  \n",
       "25549  5083.954  5083.954  5083.954  5083.954  5083.954  \n",
       "25550  5083.954  5083.954  5083.954  5083.954  5083.954  \n",
       "25551  5083.954  5083.954  5083.954  5083.954  5083.954  \n",
       "\n",
       "[6 rows x 6668 columns]"
      ],
      "text/html": [
       "<div>\n",
       "<style scoped>\n",
       "    .dataframe tbody tr th:only-of-type {\n",
       "        vertical-align: middle;\n",
       "    }\n",
       "\n",
       "    .dataframe tbody tr th {\n",
       "        vertical-align: top;\n",
       "    }\n",
       "\n",
       "    .dataframe thead th {\n",
       "        text-align: right;\n",
       "    }\n",
       "</style>\n",
       "<table border=\"1\" class=\"dataframe\">\n",
       "  <thead>\n",
       "    <tr style=\"text-align: right;\">\n",
       "      <th></th>\n",
       "      <th>Release_Date</th>\n",
       "      <th>Title</th>\n",
       "      <th>Popularity</th>\n",
       "      <th>Vote_Count</th>\n",
       "      <th>Vote_Average</th>\n",
       "      <th>Genre</th>\n",
       "      <th>5083.954</th>\n",
       "      <th>3827.658</th>\n",
       "      <th>2618.087</th>\n",
       "      <th>2402.201</th>\n",
       "      <th>...</th>\n",
       "      <th>15.775</th>\n",
       "      <th>15.774</th>\n",
       "      <th>15.772</th>\n",
       "      <th>15.771</th>\n",
       "      <th>15.769</th>\n",
       "      <th>15.768</th>\n",
       "      <th>15.763</th>\n",
       "      <th>15.759</th>\n",
       "      <th>15.758</th>\n",
       "      <th>15.757</th>\n",
       "    </tr>\n",
       "  </thead>\n",
       "  <tbody>\n",
       "    <tr>\n",
       "      <th>25546</th>\n",
       "      <td>2021</td>\n",
       "      <td>The United States vs. Billie Holiday</td>\n",
       "      <td>13.354</td>\n",
       "      <td>152</td>\n",
       "      <td>average</td>\n",
       "      <td>Music</td>\n",
       "      <td>5083.954</td>\n",
       "      <td>5083.954</td>\n",
       "      <td>5083.954</td>\n",
       "      <td>5083.954</td>\n",
       "      <td>...</td>\n",
       "      <td>5083.954</td>\n",
       "      <td>5083.954</td>\n",
       "      <td>5083.954</td>\n",
       "      <td>5083.954</td>\n",
       "      <td>5083.954</td>\n",
       "      <td>5083.954</td>\n",
       "      <td>5083.954</td>\n",
       "      <td>5083.954</td>\n",
       "      <td>5083.954</td>\n",
       "      <td>5083.954</td>\n",
       "    </tr>\n",
       "    <tr>\n",
       "      <th>25547</th>\n",
       "      <td>2021</td>\n",
       "      <td>The United States vs. Billie Holiday</td>\n",
       "      <td>13.354</td>\n",
       "      <td>152</td>\n",
       "      <td>average</td>\n",
       "      <td>Drama</td>\n",
       "      <td>5083.954</td>\n",
       "      <td>5083.954</td>\n",
       "      <td>5083.954</td>\n",
       "      <td>5083.954</td>\n",
       "      <td>...</td>\n",
       "      <td>5083.954</td>\n",
       "      <td>5083.954</td>\n",
       "      <td>5083.954</td>\n",
       "      <td>5083.954</td>\n",
       "      <td>5083.954</td>\n",
       "      <td>5083.954</td>\n",
       "      <td>5083.954</td>\n",
       "      <td>5083.954</td>\n",
       "      <td>5083.954</td>\n",
       "      <td>5083.954</td>\n",
       "    </tr>\n",
       "    <tr>\n",
       "      <th>25548</th>\n",
       "      <td>2021</td>\n",
       "      <td>The United States vs. Billie Holiday</td>\n",
       "      <td>13.354</td>\n",
       "      <td>152</td>\n",
       "      <td>average</td>\n",
       "      <td>History</td>\n",
       "      <td>5083.954</td>\n",
       "      <td>5083.954</td>\n",
       "      <td>5083.954</td>\n",
       "      <td>5083.954</td>\n",
       "      <td>...</td>\n",
       "      <td>5083.954</td>\n",
       "      <td>5083.954</td>\n",
       "      <td>5083.954</td>\n",
       "      <td>5083.954</td>\n",
       "      <td>5083.954</td>\n",
       "      <td>5083.954</td>\n",
       "      <td>5083.954</td>\n",
       "      <td>5083.954</td>\n",
       "      <td>5083.954</td>\n",
       "      <td>5083.954</td>\n",
       "    </tr>\n",
       "    <tr>\n",
       "      <th>25549</th>\n",
       "      <td>1984</td>\n",
       "      <td>Threads</td>\n",
       "      <td>13.354</td>\n",
       "      <td>186</td>\n",
       "      <td>popular</td>\n",
       "      <td>War</td>\n",
       "      <td>5083.954</td>\n",
       "      <td>5083.954</td>\n",
       "      <td>5083.954</td>\n",
       "      <td>5083.954</td>\n",
       "      <td>...</td>\n",
       "      <td>5083.954</td>\n",
       "      <td>5083.954</td>\n",
       "      <td>5083.954</td>\n",
       "      <td>5083.954</td>\n",
       "      <td>5083.954</td>\n",
       "      <td>5083.954</td>\n",
       "      <td>5083.954</td>\n",
       "      <td>5083.954</td>\n",
       "      <td>5083.954</td>\n",
       "      <td>5083.954</td>\n",
       "    </tr>\n",
       "    <tr>\n",
       "      <th>25550</th>\n",
       "      <td>1984</td>\n",
       "      <td>Threads</td>\n",
       "      <td>13.354</td>\n",
       "      <td>186</td>\n",
       "      <td>popular</td>\n",
       "      <td>Drama</td>\n",
       "      <td>5083.954</td>\n",
       "      <td>5083.954</td>\n",
       "      <td>5083.954</td>\n",
       "      <td>5083.954</td>\n",
       "      <td>...</td>\n",
       "      <td>5083.954</td>\n",
       "      <td>5083.954</td>\n",
       "      <td>5083.954</td>\n",
       "      <td>5083.954</td>\n",
       "      <td>5083.954</td>\n",
       "      <td>5083.954</td>\n",
       "      <td>5083.954</td>\n",
       "      <td>5083.954</td>\n",
       "      <td>5083.954</td>\n",
       "      <td>5083.954</td>\n",
       "    </tr>\n",
       "    <tr>\n",
       "      <th>25551</th>\n",
       "      <td>1984</td>\n",
       "      <td>Threads</td>\n",
       "      <td>13.354</td>\n",
       "      <td>186</td>\n",
       "      <td>popular</td>\n",
       "      <td>Science Fiction</td>\n",
       "      <td>5083.954</td>\n",
       "      <td>5083.954</td>\n",
       "      <td>5083.954</td>\n",
       "      <td>5083.954</td>\n",
       "      <td>...</td>\n",
       "      <td>5083.954</td>\n",
       "      <td>5083.954</td>\n",
       "      <td>5083.954</td>\n",
       "      <td>5083.954</td>\n",
       "      <td>5083.954</td>\n",
       "      <td>5083.954</td>\n",
       "      <td>5083.954</td>\n",
       "      <td>5083.954</td>\n",
       "      <td>5083.954</td>\n",
       "      <td>5083.954</td>\n",
       "    </tr>\n",
       "  </tbody>\n",
       "</table>\n",
       "<p>6 rows × 6668 columns</p>\n",
       "</div>"
      ]
     },
     "execution_count": 104,
     "metadata": {},
     "output_type": "execute_result"
    }
   ],
   "execution_count": 104
  }
 ],
 "metadata": {
  "kernelspec": {
   "display_name": "Python 3",
   "language": "python",
   "name": "python3"
  },
  "language_info": {
   "codemirror_mode": {
    "name": "ipython",
    "version": 2
   },
   "file_extension": ".py",
   "mimetype": "text/x-python",
   "name": "python",
   "nbconvert_exporter": "python",
   "pygments_lexer": "ipython2",
   "version": "2.7.6"
  }
 },
 "nbformat": 4,
 "nbformat_minor": 5
}
